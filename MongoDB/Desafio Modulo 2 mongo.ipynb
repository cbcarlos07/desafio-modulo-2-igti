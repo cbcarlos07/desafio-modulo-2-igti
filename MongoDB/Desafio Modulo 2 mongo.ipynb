{
 "cells": [
  {
   "cell_type": "code",
   "execution_count": 1,
   "id": "a63859ba",
   "metadata": {},
   "outputs": [
    {
     "name": "stdout",
     "output_type": "stream",
     "text": [
      "Defaulting to user installation because normal site-packages is not writeable\n",
      "Collecting pymongo\n",
      "  Downloading pymongo-4.0.1-cp39-cp39-win_amd64.whl (354 kB)\n",
      "Installing collected packages: pymongo\n",
      "Successfully installed pymongo-4.0.1\n"
     ]
    },
    {
     "name": "stderr",
     "output_type": "stream",
     "text": [
      "WARNING: You are using pip version 20.2.3; however, version 22.0.3 is available.\n",
      "You should consider upgrading via the 'c:\\program files\\python39\\python.exe -m pip install --upgrade pip' command.\n"
     ]
    }
   ],
   "source": [
    "!pip install pymongo"
   ]
  },
  {
   "cell_type": "code",
   "execution_count": 5,
   "id": "7c6b1a18",
   "metadata": {},
   "outputs": [],
   "source": [
    "from pymongo import MongoClient\n",
    "import pandas as pd"
   ]
  },
  {
   "cell_type": "code",
   "execution_count": 3,
   "id": "98463d7d",
   "metadata": {},
   "outputs": [
    {
     "data": {
      "text/plain": [
       "pymongo.mongo_client.MongoClient"
      ]
     },
     "execution_count": 3,
     "metadata": {},
     "output_type": "execute_result"
    }
   ],
   "source": [
    "conn = MongoClient('localhost')\n",
    "type(conn)"
   ]
  },
  {
   "cell_type": "code",
   "execution_count": 4,
   "id": "fec5eb06",
   "metadata": {},
   "outputs": [
    {
     "data": {
      "text/plain": [
       "pymongo.database.Database"
      ]
     },
     "execution_count": 4,
     "metadata": {},
     "output_type": "execute_result"
    }
   ],
   "source": [
    "db = conn.desafio_m2\n",
    "type(db)"
   ]
  },
  {
   "cell_type": "code",
   "execution_count": 12,
   "id": "08f7dae3",
   "metadata": {},
   "outputs": [
    {
     "data": {
      "text/plain": [
       "pymongo.collection.Collection"
      ]
     },
     "execution_count": 12,
     "metadata": {},
     "output_type": "execute_result"
    }
   ],
   "source": [
    "collection = db.jogadores\n",
    "type(collection)"
   ]
  },
  {
   "cell_type": "code",
   "execution_count": 9,
   "id": "ff9256a0",
   "metadata": {},
   "outputs": [],
   "source": [
    "df = pd.read_json('lista_jogadores_chess-1.json')\n"
   ]
  },
  {
   "cell_type": "code",
   "execution_count": 10,
   "id": "c1e6e0bf",
   "metadata": {},
   "outputs": [
    {
     "data": {
      "text/plain": [
       "[{'avatar': 'https://images.chesscomfiles.com/uploads/v1/user/18800602.e26b721f.200x200o.e738019a328a.jpeg',\n",
       "  'player_id': 18800602,\n",
       "  '@id': 'https://api.chess.com/pub/player/123lt',\n",
       "  'url': 'https://www.chess.com/member/123lt',\n",
       "  'name': 'Tingjie Lei',\n",
       "  'username': '123lt',\n",
       "  'title': 'GM',\n",
       "  'followers': 36,\n",
       "  'country': 'https://api.chess.com/pub/country/CN',\n",
       "  'last_online': 1615967972,\n",
       "  'joined': 1410059361,\n",
       "  'status': 'premium',\n",
       "  'is_streamer': False},\n",
       " {'avatar': 'https://images.chesscomfiles.com/uploads/v1/user/29499974.39041f89.200x200o.f6478a5ae8e2.jpeg',\n",
       "  'player_id': 29499974,\n",
       "  '@id': 'https://api.chess.com/pub/player/124chess',\n",
       "  'url': 'https://www.chess.com/member/124chess',\n",
       "  'name': 'Дмитрий Хегай',\n",
       "  'username': '124chess',\n",
       "  'title': 'GM',\n",
       "  'followers': 87,\n",
       "  'country': 'https://api.chess.com/pub/country/RU',\n",
       "  'location': 'Красноярск',\n",
       "  'last_online': 1616173422,\n",
       "  'joined': 1471316272,\n",
       "  'status': 'premium',\n",
       "  'is_streamer': False},\n",
       " {'avatar': 'https://images.chesscomfiles.com/uploads/v1/user/30610578.e05f2196.200x200o.3948baec540a.jpeg',\n",
       "  'player_id': 30610578,\n",
       "  '@id': 'https://api.chess.com/pub/player/1977ivan',\n",
       "  'url': 'https://www.chess.com/member/1977Ivan',\n",
       "  'name': 'Ivan Ivanisevic',\n",
       "  'username': '1977ivan',\n",
       "  'title': 'GM',\n",
       "  'followers': 120,\n",
       "  'country': 'https://api.chess.com/pub/country/RS',\n",
       "  'location': 'Belgrade',\n",
       "  'last_online': 1616110240,\n",
       "  'joined': 1477565847,\n",
       "  'status': 'premium',\n",
       "  'is_streamer': False},\n",
       " {'avatar': 'https://images.chesscomfiles.com/uploads/v1/user/13013662.cd1d1c55.200x200o.895c29f69c54.jpeg',\n",
       "  'player_id': 13013662,\n",
       "  '@id': 'https://api.chess.com/pub/player/1stsecond',\n",
       "  'url': 'https://www.chess.com/member/1stSecond',\n",
       "  'name': 'Nikita Meshkovs',\n",
       "  'username': '1stsecond',\n",
       "  'title': 'GM',\n",
       "  'followers': 716,\n",
       "  'country': 'https://api.chess.com/pub/country/LV',\n",
       "  'location': 'Riga',\n",
       "  'last_online': 1616192647,\n",
       "  'joined': 1375617889,\n",
       "  'status': 'premium',\n",
       "  'is_streamer': False},\n",
       " {'avatar': 'https://images.chesscomfiles.com/uploads/v1/user/39230304.414d9817.200x200o.46cbdae3f782.png',\n",
       "  'player_id': 39230304,\n",
       "  '@id': 'https://api.chess.com/pub/player/2nd_life',\n",
       "  'url': 'https://www.chess.com/member/2nd_life',\n",
       "  'name': 'Florian Jenni',\n",
       "  'username': '2nd_life',\n",
       "  'title': 'GM',\n",
       "  'followers': 25,\n",
       "  'country': 'https://api.chess.com/pub/country/CH',\n",
       "  'location': 'Zurich',\n",
       "  'last_online': 1615926963,\n",
       "  'joined': 1507311109,\n",
       "  'status': 'premium',\n",
       "  'is_streamer': False},\n",
       " {'avatar': 'https://images.chesscomfiles.com/uploads/v1/user/69412324.a8a2af79.200x200o.f77e8743116c.jpeg',\n",
       "  'player_id': 69412324,\n",
       "  '@id': 'https://api.chess.com/pub/player/4thd-alpeacefulmoon',\n",
       "  'url': 'https://www.chess.com/member/4thD-alpeacefulmoon',\n",
       "  'name': 'Robert Markus',\n",
       "  'username': '4thd-alpeacefulmoon',\n",
       "  'title': 'GM',\n",
       "  'followers': 2,\n",
       "  'country': 'https://api.chess.com/pub/country/RS',\n",
       "  'last_online': 1582473834,\n",
       "  'joined': 1576488055,\n",
       "  'status': 'premium',\n",
       "  'is_streamer': False},\n",
       " {'player_id': 73365394,\n",
       "  '@id': 'https://api.chess.com/pub/player/64aramis64',\n",
       "  'url': 'https://www.chess.com/member/64Aramis64',\n",
       "  'username': '64aramis64',\n",
       "  'title': 'GM',\n",
       "  'followers': 9,\n",
       "  'country': 'https://api.chess.com/pub/country/US',\n",
       "  'last_online': 1615604139,\n",
       "  'joined': 1583956667,\n",
       "  'status': 'premium',\n",
       "  'is_streamer': False},\n",
       " {'player_id': 73365768,\n",
       "  '@id': 'https://api.chess.com/pub/player/64arthos64',\n",
       "  'url': 'https://www.chess.com/member/64Arthos64',\n",
       "  'username': '64arthos64',\n",
       "  'title': 'GM',\n",
       "  'followers': 4,\n",
       "  'country': 'https://api.chess.com/pub/country/US',\n",
       "  'last_online': 1609891416,\n",
       "  'joined': 1583957153,\n",
       "  'status': 'premium',\n",
       "  'is_streamer': False},\n",
       " {'player_id': 73366590,\n",
       "  '@id': 'https://api.chess.com/pub/player/64atilla64',\n",
       "  'url': 'https://www.chess.com/member/64Atilla64',\n",
       "  'username': '64atilla64',\n",
       "  'title': 'GM',\n",
       "  'followers': 7,\n",
       "  'country': 'https://api.chess.com/pub/country/US',\n",
       "  'last_online': 1609182946,\n",
       "  'joined': 1583958360,\n",
       "  'status': 'premium',\n",
       "  'is_streamer': False},\n",
       " {'player_id': 73366504,\n",
       "  '@id': 'https://api.chess.com/pub/player/64dartagnan64',\n",
       "  'url': 'https://www.chess.com/member/64Dartagnan64',\n",
       "  'username': '64dartagnan64',\n",
       "  'title': 'GM',\n",
       "  'followers': 17,\n",
       "  'country': 'https://api.chess.com/pub/country/US',\n",
       "  'last_online': 1615758264,\n",
       "  'joined': 1583958242,\n",
       "  'status': 'premium',\n",
       "  'is_streamer': False}]"
      ]
     },
     "execution_count": 10,
     "metadata": {},
     "output_type": "execute_result"
    }
   ],
   "source": [
    "users = []\n",
    "for user in df.itertuples():\n",
    "    users.append( user.user )\n",
    "users[:10]"
   ]
  },
  {
   "cell_type": "code",
   "execution_count": 13,
   "id": "2e6d8aab",
   "metadata": {},
   "outputs": [],
   "source": [
    "for user in users:\n",
    "    user_id = collection.insert_one(user)\n",
    "    user_id.inserted_id\n",
    "    "
   ]
  },
  {
   "cell_type": "code",
   "execution_count": 14,
   "id": "fd0e278c",
   "metadata": {},
   "outputs": [],
   "source": [
    "import pprint"
   ]
  },
  {
   "cell_type": "markdown",
   "id": "90c6c925",
   "metadata": {},
   "source": [
    "## Pergunta 6\n",
    "- Quantos registros possuem na base de dados do chess? "
   ]
  },
  {
   "cell_type": "code",
   "execution_count": 18,
   "id": "90faa203",
   "metadata": {},
   "outputs": [
    {
     "data": {
      "text/plain": [
       "1332"
      ]
     },
     "execution_count": 18,
     "metadata": {},
     "output_type": "execute_result"
    }
   ],
   "source": [
    "count = db.jogadores.estimated_document_count()\n",
    "count"
   ]
  },
  {
   "cell_type": "markdown",
   "id": "23e0d29d",
   "metadata": {},
   "source": [
    "## Pergunta 7\n",
    "-- Quantos jogadores são do Estados Unidos (US)?  "
   ]
  },
  {
   "cell_type": "code",
   "execution_count": 36,
   "id": "d93a1a81",
   "metadata": {},
   "outputs": [
    {
     "data": {
      "text/plain": [
       "223"
      ]
     },
     "execution_count": 36,
     "metadata": {},
     "output_type": "execute_result"
    }
   ],
   "source": [
    "count1 = db.jogadores.count_documents({ \"country\": { \"$regex\": \"US\", \"$options\": \"i\" } })\n",
    "count1"
   ]
  },
  {
   "cell_type": "markdown",
   "id": "4fb93dd5",
   "metadata": {},
   "source": [
    "## Pergunta 8\n",
    "- Quantos seguidores (número de pessoas) o jogador Alex Fier possui?  "
   ]
  },
  {
   "cell_type": "code",
   "execution_count": 42,
   "id": "c30c13ac",
   "metadata": {},
   "outputs": [
    {
     "name": "stdout",
     "output_type": "stream",
     "text": [
      "{'@id': 'https://api.chess.com/pub/player/a-fier',\n",
      " '_id': ObjectId('6216c5f6013b0915ebde8f84'),\n",
      " 'avatar': 'https://images.chesscomfiles.com/uploads/v1/user/10968500.f31e4e06.200x200o.2418d3cb8a26.jpeg',\n",
      " 'country': 'https://api.chess.com/pub/country/BR',\n",
      " 'followers': 892,\n",
      " 'is_streamer': True,\n",
      " 'joined': 1361966117,\n",
      " 'last_online': 1616007083,\n",
      " 'location': 'Tbilisi',\n",
      " 'name': 'Alex Fier',\n",
      " 'player_id': 10968500,\n",
      " 'status': 'premium',\n",
      " 'title': 'GM',\n",
      " 'twitch_url': 'https://twitch.tv/GMAlexFier',\n",
      " 'url': 'https://www.chess.com/member/A-Fier',\n",
      " 'username': 'a-fier'}\n",
      "{'@id': 'https://api.chess.com/pub/player/fierhasnopieces',\n",
      " '_id': ObjectId('6216c5f6013b0915ebde9102'),\n",
      " 'country': 'https://api.chess.com/pub/country/BR',\n",
      " 'followers': 2,\n",
      " 'is_streamer': False,\n",
      " 'joined': 1601500235,\n",
      " 'last_online': 1601836397,\n",
      " 'name': 'Alex Fier',\n",
      " 'player_id': 92274728,\n",
      " 'status': 'premium',\n",
      " 'title': 'GM',\n",
      " 'url': 'https://www.chess.com/member/FierHasNoPieces',\n",
      " 'username': 'fierhasnopieces'}\n"
     ]
    },
    {
     "data": {
      "text/plain": [
       "894"
      ]
     },
     "execution_count": 42,
     "metadata": {},
     "output_type": "execute_result"
    }
   ],
   "source": [
    "seguidores = 0\n",
    "for jogador in db.jogadores.find({ \"name\": 'Alex Fier'}):\n",
    "    seguidores += jogador['followers']\n",
    "    pprint.pprint(jogador)\n",
    "    \n",
    "seguidores"
   ]
  },
  {
   "cell_type": "markdown",
   "id": "4fd8a199",
   "metadata": {},
   "source": [
    "## Pergunta 9\n",
    "- Quantas pessoas do dataset NÃO são streamer? "
   ]
  },
  {
   "cell_type": "code",
   "execution_count": 43,
   "id": "62d68100",
   "metadata": {},
   "outputs": [
    {
     "data": {
      "text/plain": [
       "1266"
      ]
     },
     "execution_count": 43,
     "metadata": {},
     "output_type": "execute_result"
    }
   ],
   "source": [
    "streamer = 0\n",
    "for jogador in db.jogadores.find({ \"is_streamer\": False}):    \n",
    "    streamer += 1\n",
    "    \n",
    "streamer"
   ]
  },
  {
   "cell_type": "markdown",
   "id": "04b8d980",
   "metadata": {},
   "source": [
    "## Pergunta 10\n",
    "- Quantos jogadores possuem mais de 10.000 seguidores? (Operador maior ou igual a que?) "
   ]
  },
  {
   "cell_type": "code",
   "execution_count": 49,
   "id": "48e1b701",
   "metadata": {},
   "outputs": [
    {
     "data": {
      "text/plain": [
       "13"
      ]
     },
     "execution_count": 49,
     "metadata": {},
     "output_type": "execute_result"
    }
   ],
   "source": [
    "followers = 0\n",
    "for jogador in db.jogadores.find({ \"followers\": { \"$gt\": 10000 }}):    \n",
    "    followers += 1\n",
    "    \n",
    "followers"
   ]
  },
  {
   "cell_type": "markdown",
   "id": "a41432f7",
   "metadata": {},
   "source": [
    "## Pergunta 11\n",
    "- Qual a sintaxe CORRETA utilizada para criar uma coleção no MongoDB? "
   ]
  },
  {
   "cell_type": "markdown",
   "id": "43f6f219",
   "metadata": {},
   "source": [
    "db.createCollection(‘forum_debates’)"
   ]
  },
  {
   "cell_type": "markdown",
   "id": "1607372d",
   "metadata": {},
   "source": [
    "## Pergunta 12\n",
    "- Qual o status que o jogador Rafael Leitão possui?"
   ]
  },
  {
   "cell_type": "code",
   "execution_count": 50,
   "id": "13141ff2",
   "metadata": {},
   "outputs": [],
   "source": [
    "for jogador in db.jogadores.find({ \"name\": 'Rafael Leitão'}):    \n",
    "    pprint.pprint(jogador)"
   ]
  },
  {
   "cell_type": "markdown",
   "id": "d25a53c3",
   "metadata": {},
   "source": [
    "## Pergunta 13\n",
    "- Quais são os jogadores que possuem mais que 30.000 seguidores? "
   ]
  },
  {
   "cell_type": "code",
   "execution_count": 53,
   "id": "704bd782",
   "metadata": {},
   "outputs": [
    {
     "name": "stdout",
     "output_type": "stream",
     "text": [
      "'Simon Williams'\n",
      "'Hikaru Nakamura'\n",
      "'Magnus Carlsen'\n"
     ]
    }
   ],
   "source": [
    "for jogador in db.jogadores.find({ \"followers\": { \"$gt\": 30000 }}):    \n",
    "    pprint.pprint(jogador['name'])"
   ]
  },
  {
   "cell_type": "markdown",
   "id": "30d1a960",
   "metadata": {},
   "source": [
    "## Pergunta 14\n",
    "- Qual a localização do jogador Robert L. Hess? "
   ]
  },
  {
   "cell_type": "code",
   "execution_count": 54,
   "id": "8c573beb",
   "metadata": {},
   "outputs": [
    {
     "name": "stdout",
     "output_type": "stream",
     "text": [
      "'New York'\n"
     ]
    }
   ],
   "source": [
    "for jogador in db.jogadores.find({ \"name\": 'Robert L. Hess'}):    \n",
    "    pprint.pprint(jogador['location'])"
   ]
  },
  {
   "cell_type": "markdown",
   "id": "6381b7a6",
   "metadata": {},
   "source": [
    "## Pergunta 15\n",
    "- Assinale a alternativa INCORRETA sobre MongoDB: "
   ]
  },
  {
   "cell_type": "code",
   "execution_count": null,
   "id": "bb95e880",
   "metadata": {},
   "outputs": [],
   "source": []
  }
 ],
 "metadata": {
  "kernelspec": {
   "display_name": "coleta_dados",
   "language": "python",
   "name": "coleta_dados"
  },
  "language_info": {
   "codemirror_mode": {
    "name": "ipython",
    "version": 3
   },
   "file_extension": ".py",
   "mimetype": "text/x-python",
   "name": "python",
   "nbconvert_exporter": "python",
   "pygments_lexer": "ipython3",
   "version": "3.9.7"
  }
 },
 "nbformat": 4,
 "nbformat_minor": 5
}
